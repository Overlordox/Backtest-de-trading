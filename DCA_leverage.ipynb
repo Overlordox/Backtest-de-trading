{
 "cells": [
  {
   "cell_type": "markdown",
   "metadata": {},
   "source": [
    "### EN COURS ###"
   ]
  },
  {
   "cell_type": "code",
   "execution_count": 50,
   "metadata": {},
   "outputs": [],
   "source": [
    "import pandas as pd\n",
    "import numpy as np\n",
    "import plotly.graph_objects as go\n",
    "import matplotlib.pyplot as plt\n",
    "import matplotlib.dates as mdates\n",
    "from datetime import datetime\n",
    "import ccxt\n",
    "import json\n",
    "import os"
   ]
  },
  {
   "cell_type": "code",
   "execution_count": 51,
   "metadata": {},
   "outputs": [],
   "source": [
    "output_file = '/Users/maximemolin/Documents/Python/Backtest/crypto_data' + '/btc_usdt_data_1d.csv'"
   ]
  },
  {
   "cell_type": "code",
   "execution_count": 52,
   "metadata": {},
   "outputs": [
    {
     "name": "stderr",
     "output_type": "stream",
     "text": [
      "/var/folders/77/p5phw71x73d4c3n5nhtssc1r0000gn/T/ipykernel_94863/99041764.py:1: UserWarning: Could not infer format, so each element will be parsed individually, falling back to `dateutil`. To ensure parsing is consistent and as-expected, please specify a format.\n",
      "  data = pd.read_csv(output_file ,parse_dates=['timestamp']).sort_index(ascending=False)\n"
     ]
    },
    {
     "data": {
      "text/html": [
       "<div>\n",
       "<style scoped>\n",
       "    .dataframe tbody tr th:only-of-type {\n",
       "        vertical-align: middle;\n",
       "    }\n",
       "\n",
       "    .dataframe tbody tr th {\n",
       "        vertical-align: top;\n",
       "    }\n",
       "\n",
       "    .dataframe thead th {\n",
       "        text-align: right;\n",
       "    }\n",
       "</style>\n",
       "<table border=\"1\" class=\"dataframe\">\n",
       "  <thead>\n",
       "    <tr style=\"text-align: right;\">\n",
       "      <th></th>\n",
       "      <th>timestamp</th>\n",
       "      <th>open</th>\n",
       "      <th>high</th>\n",
       "      <th>low</th>\n",
       "      <th>close</th>\n",
       "      <th>volume</th>\n",
       "    </tr>\n",
       "  </thead>\n",
       "  <tbody>\n",
       "    <tr>\n",
       "      <th>1988</th>\n",
       "      <td>1686528000000</td>\n",
       "      <td>25925.54</td>\n",
       "      <td>26028.50</td>\n",
       "      <td>25602.11</td>\n",
       "      <td>25812.18</td>\n",
       "      <td>10287.094610</td>\n",
       "    </tr>\n",
       "    <tr>\n",
       "      <th>1987</th>\n",
       "      <td>1686441600000</td>\n",
       "      <td>25841.22</td>\n",
       "      <td>26206.88</td>\n",
       "      <td>25634.70</td>\n",
       "      <td>25925.55</td>\n",
       "      <td>30014.295950</td>\n",
       "    </tr>\n",
       "    <tr>\n",
       "      <th>1986</th>\n",
       "      <td>1686355200000</td>\n",
       "      <td>26477.80</td>\n",
       "      <td>26533.87</td>\n",
       "      <td>25358.00</td>\n",
       "      <td>25841.21</td>\n",
       "      <td>64944.601080</td>\n",
       "    </tr>\n",
       "    <tr>\n",
       "      <th>1985</th>\n",
       "      <td>1686268800000</td>\n",
       "      <td>26498.62</td>\n",
       "      <td>26783.33</td>\n",
       "      <td>26269.91</td>\n",
       "      <td>26477.81</td>\n",
       "      <td>27934.709700</td>\n",
       "    </tr>\n",
       "    <tr>\n",
       "      <th>1984</th>\n",
       "      <td>1686182400000</td>\n",
       "      <td>26339.34</td>\n",
       "      <td>26810.00</td>\n",
       "      <td>26210.00</td>\n",
       "      <td>26498.61</td>\n",
       "      <td>31075.510830</td>\n",
       "    </tr>\n",
       "    <tr>\n",
       "      <th>...</th>\n",
       "      <td>...</td>\n",
       "      <td>...</td>\n",
       "      <td>...</td>\n",
       "      <td>...</td>\n",
       "      <td>...</td>\n",
       "      <td>...</td>\n",
       "    </tr>\n",
       "    <tr>\n",
       "      <th>4</th>\n",
       "      <td>1515110400000</td>\n",
       "      <td>15059.56</td>\n",
       "      <td>17176.24</td>\n",
       "      <td>14600.00</td>\n",
       "      <td>16960.39</td>\n",
       "      <td>23251.491125</td>\n",
       "    </tr>\n",
       "    <tr>\n",
       "      <th>3</th>\n",
       "      <td>1515024000000</td>\n",
       "      <td>14919.51</td>\n",
       "      <td>15280.00</td>\n",
       "      <td>13918.04</td>\n",
       "      <td>15059.54</td>\n",
       "      <td>21329.649574</td>\n",
       "    </tr>\n",
       "    <tr>\n",
       "      <th>2</th>\n",
       "      <td>1514937600000</td>\n",
       "      <td>14690.00</td>\n",
       "      <td>15307.56</td>\n",
       "      <td>14150.00</td>\n",
       "      <td>14919.51</td>\n",
       "      <td>15905.667639</td>\n",
       "    </tr>\n",
       "    <tr>\n",
       "      <th>1</th>\n",
       "      <td>1514851200000</td>\n",
       "      <td>13382.16</td>\n",
       "      <td>15473.49</td>\n",
       "      <td>12890.02</td>\n",
       "      <td>14675.11</td>\n",
       "      <td>20078.092111</td>\n",
       "    </tr>\n",
       "    <tr>\n",
       "      <th>0</th>\n",
       "      <td>1514764800000</td>\n",
       "      <td>13715.65</td>\n",
       "      <td>13818.55</td>\n",
       "      <td>12750.00</td>\n",
       "      <td>13380.00</td>\n",
       "      <td>8609.915844</td>\n",
       "    </tr>\n",
       "  </tbody>\n",
       "</table>\n",
       "<p>1989 rows × 6 columns</p>\n",
       "</div>"
      ],
      "text/plain": [
       "          timestamp      open      high       low     close        volume\n",
       "1988  1686528000000  25925.54  26028.50  25602.11  25812.18  10287.094610\n",
       "1987  1686441600000  25841.22  26206.88  25634.70  25925.55  30014.295950\n",
       "1986  1686355200000  26477.80  26533.87  25358.00  25841.21  64944.601080\n",
       "1985  1686268800000  26498.62  26783.33  26269.91  26477.81  27934.709700\n",
       "1984  1686182400000  26339.34  26810.00  26210.00  26498.61  31075.510830\n",
       "...             ...       ...       ...       ...       ...           ...\n",
       "4     1515110400000  15059.56  17176.24  14600.00  16960.39  23251.491125\n",
       "3     1515024000000  14919.51  15280.00  13918.04  15059.54  21329.649574\n",
       "2     1514937600000  14690.00  15307.56  14150.00  14919.51  15905.667639\n",
       "1     1514851200000  13382.16  15473.49  12890.02  14675.11  20078.092111\n",
       "0     1514764800000  13715.65  13818.55  12750.00  13380.00   8609.915844\n",
       "\n",
       "[1989 rows x 6 columns]"
      ]
     },
     "execution_count": 52,
     "metadata": {},
     "output_type": "execute_result"
    }
   ],
   "source": [
    "data = pd.read_csv(output_file ,parse_dates=['timestamp']).sort_index(ascending=False)\n",
    "data"
   ]
  },
  {
   "cell_type": "code",
   "execution_count": 53,
   "metadata": {},
   "outputs": [
    {
     "name": "stdout",
     "output_type": "stream",
     "text": [
      "86400000\n"
     ]
    }
   ],
   "source": [
    "r = 1686528000000 - 1686441600000\n",
    "print(r)"
   ]
  },
  {
   "cell_type": "code",
   "execution_count": 54,
   "metadata": {},
   "outputs": [],
   "source": [
    "df = data"
   ]
  },
  {
   "cell_type": "code",
   "execution_count": 55,
   "metadata": {},
   "outputs": [
    {
     "name": "stderr",
     "output_type": "stream",
     "text": [
      "/var/folders/77/p5phw71x73d4c3n5nhtssc1r0000gn/T/ipykernel_94863/3063227348.py:2: FutureWarning: The behavior of 'to_datetime' with 'unit' when parsing strings is deprecated. In a future version, strings will be parsed as datetime strings, matching the behavior without a 'unit'. To retain the old behavior, explicitly cast ints or floats to numeric type before calling to_datetime.\n",
      "  df['timestamp'] = pd.to_datetime(df['timestamp'], unit='ms').dt.strftime('%Y-%m-%d')\n"
     ]
    }
   ],
   "source": [
    "# Conversion de la colonne de timestamps\n",
    "df['timestamp'] = pd.to_datetime(df['timestamp'], unit='ms').dt.strftime('%Y-%m-%d')"
   ]
  },
  {
   "cell_type": "code",
   "execution_count": 59,
   "metadata": {},
   "outputs": [
    {
     "ename": "ValueError",
     "evalue": "too many values to unpack (expected 2)",
     "output_type": "error",
     "traceback": [
      "\u001b[0;31m---------------------------------------------------------------------------\u001b[0m",
      "\u001b[0;31mValueError\u001b[0m                                Traceback (most recent call last)",
      "\u001b[1;32m/Users/maximemolin/Documents/Python/Backtest/Backtest-de-trading/DCA_leverage.ipynb Cellule 8\u001b[0m line \u001b[0;36m1\n\u001b[1;32m     <a href='vscode-notebook-cell:/Users/maximemolin/Documents/Python/Backtest/Backtest-de-trading/DCA_leverage.ipynb#W6sZmlsZQ%3D%3D?line=97'>98</a>\u001b[0m PNL \u001b[39m=\u001b[39m  buy_and_hold_f\u001b[39m/\u001b[39m initial_USDT_balance\n\u001b[1;32m    <a href='vscode-notebook-cell:/Users/maximemolin/Documents/Python/Backtest/Backtest-de-trading/DCA_leverage.ipynb#W6sZmlsZQ%3D%3D?line=99'>100</a>\u001b[0m backtest \u001b[39m=\u001b[39m DCA_Leverage( start_date \u001b[39m=\u001b[39m timestamp1, end_date \u001b[39m=\u001b[39m timestamp2, initial_BTC_balance\u001b[39m=\u001b[39m\u001b[39m0\u001b[39m,  initial_USDT_balance \u001b[39m=\u001b[39m \u001b[39m1000\u001b[39m, fee \u001b[39m=\u001b[39m \u001b[39m0.001\u001b[39m, leverage \u001b[39m=\u001b[39m \u001b[39m2\u001b[39m)\n\u001b[0;32m--> <a href='vscode-notebook-cell:/Users/maximemolin/Documents/Python/Backtest/Backtest-de-trading/DCA_leverage.ipynb#W6sZmlsZQ%3D%3D?line=100'>101</a>\u001b[0m portfolio_value_USDT_df, portfolio_value_BTC_df \u001b[39m=\u001b[39m backtest\u001b[39m.\u001b[39mrun_backtest()\n\u001b[1;32m    <a href='vscode-notebook-cell:/Users/maximemolin/Documents/Python/Backtest/Backtest-de-trading/DCA_leverage.ipynb#W6sZmlsZQ%3D%3D?line=102'>103</a>\u001b[0m \u001b[39m# Conversion du portefeuille en BTC en valeur équivalente en USDT\u001b[39;00m\n\u001b[1;32m    <a href='vscode-notebook-cell:/Users/maximemolin/Documents/Python/Backtest/Backtest-de-trading/DCA_leverage.ipynb#W6sZmlsZQ%3D%3D?line=103'>104</a>\u001b[0m btc_prices \u001b[39m=\u001b[39m backtest\u001b[39m.\u001b[39mdata[\u001b[39m'\u001b[39m\u001b[39mclose\u001b[39m\u001b[39m'\u001b[39m]\n",
      "\u001b[0;31mValueError\u001b[0m: too many values to unpack (expected 2)"
     ]
    }
   ],
   "source": [
    "class DCA_Leverage:\n",
    "    def __init__(self, start_date, end_date, initial_USDT_balance, initial_BTC_balance, fee, leverage):\n",
    "        self.start_date = start_date\n",
    "        self.end_date = end_date\n",
    "        self.initial_USDT_balance = initial_USDT_balance\n",
    "        self.initial_BTC_balance = initial_BTC_balance\n",
    "        self.exchange = ccxt.binance()# Pour run en condition réel\n",
    "        self.exchange.load_markets()\n",
    "        self.data = df\n",
    "        self.fee = fee\n",
    "        self.leverage = leverage\n",
    "        self.trades = []\n",
    "        self.portfolio_value_USDT = []\n",
    "        self.portfolio_value_BTC = []\n",
    "        self.liquidated_orders = []  # Liste des ordres liquidés\n",
    "        self.total_long_fees = 0  # Total des frais pour les ordres longs\n",
    "        self.num_long_trades = 0  # Nombre d'ordres longs exécutés\n",
    "        self.num_liquidated_orders = 0  # Incrémenter le nombre d'ordres liquidés\n",
    "\n",
    "\n",
    "\n",
    "\n",
    "    def fetch_historical_data(self):\n",
    "        try:\n",
    "            # Convertir la valeur de timestamp en type datetime64[ns]\n",
    "            start_date1 = '2022-07-22'\n",
    "            end_date1 = '2023-05-02'\n",
    "            self.data = self.data[(self.data['timestamp'] >= start_date1) & (self.data['timestamp'] <= end_date1)]\n",
    "        except:\n",
    "            print(self.data)\n",
    "            print(start_date1)\n",
    "\n",
    "    def calculate_liquidation_threshold(self, buy_order_size, current_price):\n",
    "        # Calcul du seuil de liquidation en tenant compte du levier\n",
    "        return current_price / self.leverage\n",
    "\n",
    "    def simulate_trading(self):\n",
    "        USDT_balance = self.initial_USDT_balance\n",
    "        BTC_balance = self.initial_BTC_balance\n",
    "\n",
    "        for _, row in self.data.iterrows():\n",
    "            current_price = row['close']\n",
    "            num_day = len(df)\n",
    "            usdt_allocation = self.initial_USDT_balance / num_day\n",
    "            btc_allocation = 0\n",
    "            \n",
    "            # Calcul de la taille des ordres d'achat et de vente avec levier\n",
    "            buy_order_size = usdt_allocation * self.leverage\n",
    "            liquidation_threshold = self.calculate_liquidation_threshold(buy_order_size, current_price)\n",
    "\n",
    "            # Condition pour acheter chaque jour (86400000 millisecondes = 1 jour)\n",
    "            # Acheter du BTC\n",
    "            btc_quantity = buy_order_size / current_price\n",
    "            BTC_balance += btc_quantity\n",
    "            USDT_balance -= buy_order_size\n",
    "            self.trades.append({'timestamp': row['timestamp'], 'price': current_price, 'quantity': btc_quantity, 'type': 'buy'})\n",
    "            self.num_long_trades += 1  # Incrémenter le nombre d'ordres longs\n",
    "            self.total_long_fees += buy_order_size * self.fee  # Ajouter les frais des ordres longs\n",
    "\n",
    "            # Vérifier si la liquidation s'est produite\n",
    "            if current_price <= liquidation_threshold:\n",
    "                self.liquidated_orders.append({'timestamp': row['timestamp'], 'price': current_price, 'quantity': btc_quantity, 'type': 'liquidation'})\n",
    "\n",
    "            # Votre code pour la vente d'actifs va ici\n",
    "\n",
    "            self.portfolio_value_USDT.append(USDT_balance)\n",
    "            self.portfolio_value_BTC.append(BTC_balance)\n",
    "\n",
    "\n",
    "    def run_backtest(self):\n",
    "        self.fetch_historical_data()\n",
    "        self.simulate_trading()\n",
    "        portfolio_value_USDT_df = pd.DataFrame({'timestamp': self.data['timestamp'], 'value': self.portfolio_value_USDT})\n",
    "        portfolio_value_BTC_df = pd.DataFrame({'timestamp': self.data['timestamp'], 'value': self.portfolio_value_BTC})\n",
    "        average_long_fees = self.total_long_fees / self.num_long_trades  # Calcul des frais moyens des longs\n",
    "        return pd.DataFrame(self.trades), portfolio_value_USDT_df, portfolio_value_BTC_df, self.liquidated_orders, average_long_fees\n",
    "\n",
    "\n",
    "#Conversion des dates en ms\n",
    "start_date1 = '2022-07-22'\n",
    "date_obj = datetime.strptime(start_date1, '%Y-%m-%d')\n",
    "timestamp1 = date_obj.timestamp() * 1000\n",
    "\n",
    "timestamp_str = str(int(timestamp1))  # Convertir le timestamp en chaîne de caractères\n",
    "\n",
    "end_date1 = '2023-05-19'\n",
    "date_obj = datetime.strptime(end_date1, '%Y-%m-%d')\n",
    "timestamp2 = date_obj.timestamp() * 1000\n",
    "\n",
    "timestamp_str = str(int(timestamp2))  # Convertir le timestamp en chaîne de caractères\n",
    "selected_close = data.loc[data['timestamp'] == start_date1, 'close'].values[0]\n",
    "end_close = data.loc[data['timestamp'] == end_date1, 'close'].values[0]\n",
    "\n",
    "\n",
    "initial_USDT_balance = 1000\n",
    "buy_and_hold = initial_USDT_balance / selected_close\n",
    "buy_and_hold_f = buy_and_hold * end_close\n",
    "PNL =  buy_and_hold_f/ initial_USDT_balance\n",
    "\n",
    "backtest = DCA_Leverage( start_date = timestamp1, end_date = timestamp2, initial_BTC_balance=0,  initial_USDT_balance = 1000, fee = 0.001, leverage = 2)\n",
    "portfolio_value_USDT_df, portfolio_value_BTC_df = backtest.run_backtest()\n",
    "\n",
    "# Conversion du portefeuille en BTC en valeur équivalente en USDT\n",
    "btc_prices = backtest.data['close']\n",
    "#portfolio_value_USDT_df['value'] = portfolio_value_BTC_df['value'] * btc_prices\n",
    "\n"
   ]
  },
  {
   "cell_type": "code",
   "execution_count": 60,
   "metadata": {},
   "outputs": [
    {
     "ename": "ValueError",
     "evalue": "array length 570 does not match index length 285",
     "output_type": "error",
     "traceback": [
      "\u001b[0;31m---------------------------------------------------------------------------\u001b[0m",
      "\u001b[0;31mValueError\u001b[0m                                Traceback (most recent call last)",
      "\u001b[1;32m/Users/maximemolin/Documents/Python/Backtest/Backtest-de-trading/DCA_leverage.ipynb Cellule 9\u001b[0m line \u001b[0;36m1\n\u001b[0;32m----> <a href='vscode-notebook-cell:/Users/maximemolin/Documents/Python/Backtest/Backtest-de-trading/DCA_leverage.ipynb#X12sZmlsZQ%3D%3D?line=0'>1</a>\u001b[0m backtest\u001b[39m.\u001b[39;49mrun_backtest()\n",
      "\u001b[1;32m/Users/maximemolin/Documents/Python/Backtest/Backtest-de-trading/DCA_leverage.ipynb Cellule 9\u001b[0m line \u001b[0;36m7\n\u001b[1;32m     <a href='vscode-notebook-cell:/Users/maximemolin/Documents/Python/Backtest/Backtest-de-trading/DCA_leverage.ipynb#X12sZmlsZQ%3D%3D?line=70'>71</a>\u001b[0m \u001b[39mself\u001b[39m\u001b[39m.\u001b[39mfetch_historical_data()\n\u001b[1;32m     <a href='vscode-notebook-cell:/Users/maximemolin/Documents/Python/Backtest/Backtest-de-trading/DCA_leverage.ipynb#X12sZmlsZQ%3D%3D?line=71'>72</a>\u001b[0m \u001b[39mself\u001b[39m\u001b[39m.\u001b[39msimulate_trading()\n\u001b[0;32m---> <a href='vscode-notebook-cell:/Users/maximemolin/Documents/Python/Backtest/Backtest-de-trading/DCA_leverage.ipynb#X12sZmlsZQ%3D%3D?line=72'>73</a>\u001b[0m portfolio_value_USDT_df \u001b[39m=\u001b[39m pd\u001b[39m.\u001b[39;49mDataFrame({\u001b[39m'\u001b[39;49m\u001b[39mtimestamp\u001b[39;49m\u001b[39m'\u001b[39;49m: \u001b[39mself\u001b[39;49m\u001b[39m.\u001b[39;49mdata[\u001b[39m'\u001b[39;49m\u001b[39mtimestamp\u001b[39;49m\u001b[39m'\u001b[39;49m], \u001b[39m'\u001b[39;49m\u001b[39mvalue\u001b[39;49m\u001b[39m'\u001b[39;49m: \u001b[39mself\u001b[39;49m\u001b[39m.\u001b[39;49mportfolio_value_USDT})\n\u001b[1;32m     <a href='vscode-notebook-cell:/Users/maximemolin/Documents/Python/Backtest/Backtest-de-trading/DCA_leverage.ipynb#X12sZmlsZQ%3D%3D?line=73'>74</a>\u001b[0m portfolio_value_BTC_df \u001b[39m=\u001b[39m pd\u001b[39m.\u001b[39mDataFrame({\u001b[39m'\u001b[39m\u001b[39mtimestamp\u001b[39m\u001b[39m'\u001b[39m: \u001b[39mself\u001b[39m\u001b[39m.\u001b[39mdata[\u001b[39m'\u001b[39m\u001b[39mtimestamp\u001b[39m\u001b[39m'\u001b[39m], \u001b[39m'\u001b[39m\u001b[39mvalue\u001b[39m\u001b[39m'\u001b[39m: \u001b[39mself\u001b[39m\u001b[39m.\u001b[39mportfolio_value_BTC})\n\u001b[1;32m     <a href='vscode-notebook-cell:/Users/maximemolin/Documents/Python/Backtest/Backtest-de-trading/DCA_leverage.ipynb#X12sZmlsZQ%3D%3D?line=74'>75</a>\u001b[0m average_long_fees \u001b[39m=\u001b[39m \u001b[39mself\u001b[39m\u001b[39m.\u001b[39mtotal_long_fees \u001b[39m/\u001b[39m \u001b[39mself\u001b[39m\u001b[39m.\u001b[39mnum_long_trades  \u001b[39m# Calcul des frais moyens des longs\u001b[39;00m\n",
      "File \u001b[0;32m/Library/Frameworks/Python.framework/Versions/3.11/lib/python3.11/site-packages/pandas/core/frame.py:736\u001b[0m, in \u001b[0;36mDataFrame.__init__\u001b[0;34m(self, data, index, columns, dtype, copy)\u001b[0m\n\u001b[1;32m    730\u001b[0m     mgr \u001b[39m=\u001b[39m \u001b[39mself\u001b[39m\u001b[39m.\u001b[39m_init_mgr(\n\u001b[1;32m    731\u001b[0m         data, axes\u001b[39m=\u001b[39m{\u001b[39m\"\u001b[39m\u001b[39mindex\u001b[39m\u001b[39m\"\u001b[39m: index, \u001b[39m\"\u001b[39m\u001b[39mcolumns\u001b[39m\u001b[39m\"\u001b[39m: columns}, dtype\u001b[39m=\u001b[39mdtype, copy\u001b[39m=\u001b[39mcopy\n\u001b[1;32m    732\u001b[0m     )\n\u001b[1;32m    734\u001b[0m \u001b[39melif\u001b[39;00m \u001b[39misinstance\u001b[39m(data, \u001b[39mdict\u001b[39m):\n\u001b[1;32m    735\u001b[0m     \u001b[39m# GH#38939 de facto copy defaults to False only in non-dict cases\u001b[39;00m\n\u001b[0;32m--> 736\u001b[0m     mgr \u001b[39m=\u001b[39m dict_to_mgr(data, index, columns, dtype\u001b[39m=\u001b[39;49mdtype, copy\u001b[39m=\u001b[39;49mcopy, typ\u001b[39m=\u001b[39;49mmanager)\n\u001b[1;32m    737\u001b[0m \u001b[39melif\u001b[39;00m \u001b[39misinstance\u001b[39m(data, ma\u001b[39m.\u001b[39mMaskedArray):\n\u001b[1;32m    738\u001b[0m     \u001b[39mfrom\u001b[39;00m \u001b[39mnumpy\u001b[39;00m\u001b[39m.\u001b[39;00m\u001b[39mma\u001b[39;00m \u001b[39mimport\u001b[39;00m mrecords\n",
      "File \u001b[0;32m/Library/Frameworks/Python.framework/Versions/3.11/lib/python3.11/site-packages/pandas/core/internals/construction.py:503\u001b[0m, in \u001b[0;36mdict_to_mgr\u001b[0;34m(data, index, columns, dtype, typ, copy)\u001b[0m\n\u001b[1;32m    499\u001b[0m     \u001b[39melse\u001b[39;00m:\n\u001b[1;32m    500\u001b[0m         \u001b[39m# dtype check to exclude e.g. range objects, scalars\u001b[39;00m\n\u001b[1;32m    501\u001b[0m         arrays \u001b[39m=\u001b[39m [x\u001b[39m.\u001b[39mcopy() \u001b[39mif\u001b[39;00m \u001b[39mhasattr\u001b[39m(x, \u001b[39m\"\u001b[39m\u001b[39mdtype\u001b[39m\u001b[39m\"\u001b[39m) \u001b[39melse\u001b[39;00m x \u001b[39mfor\u001b[39;00m x \u001b[39min\u001b[39;00m arrays]\n\u001b[0;32m--> 503\u001b[0m \u001b[39mreturn\u001b[39;00m arrays_to_mgr(arrays, columns, index, dtype\u001b[39m=\u001b[39;49mdtype, typ\u001b[39m=\u001b[39;49mtyp, consolidate\u001b[39m=\u001b[39;49mcopy)\n",
      "File \u001b[0;32m/Library/Frameworks/Python.framework/Versions/3.11/lib/python3.11/site-packages/pandas/core/internals/construction.py:114\u001b[0m, in \u001b[0;36marrays_to_mgr\u001b[0;34m(arrays, columns, index, dtype, verify_integrity, typ, consolidate)\u001b[0m\n\u001b[1;32m    111\u001b[0m \u001b[39mif\u001b[39;00m verify_integrity:\n\u001b[1;32m    112\u001b[0m     \u001b[39m# figure out the index, if necessary\u001b[39;00m\n\u001b[1;32m    113\u001b[0m     \u001b[39mif\u001b[39;00m index \u001b[39mis\u001b[39;00m \u001b[39mNone\u001b[39;00m:\n\u001b[0;32m--> 114\u001b[0m         index \u001b[39m=\u001b[39m _extract_index(arrays)\n\u001b[1;32m    115\u001b[0m     \u001b[39melse\u001b[39;00m:\n\u001b[1;32m    116\u001b[0m         index \u001b[39m=\u001b[39m ensure_index(index)\n",
      "File \u001b[0;32m/Library/Frameworks/Python.framework/Versions/3.11/lib/python3.11/site-packages/pandas/core/internals/construction.py:690\u001b[0m, in \u001b[0;36m_extract_index\u001b[0;34m(data)\u001b[0m\n\u001b[1;32m    685\u001b[0m     \u001b[39mif\u001b[39;00m lengths[\u001b[39m0\u001b[39m] \u001b[39m!=\u001b[39m \u001b[39mlen\u001b[39m(index):\n\u001b[1;32m    686\u001b[0m         msg \u001b[39m=\u001b[39m (\n\u001b[1;32m    687\u001b[0m             \u001b[39mf\u001b[39m\u001b[39m\"\u001b[39m\u001b[39marray length \u001b[39m\u001b[39m{\u001b[39;00mlengths[\u001b[39m0\u001b[39m]\u001b[39m}\u001b[39;00m\u001b[39m does not match index \u001b[39m\u001b[39m\"\u001b[39m\n\u001b[1;32m    688\u001b[0m             \u001b[39mf\u001b[39m\u001b[39m\"\u001b[39m\u001b[39mlength \u001b[39m\u001b[39m{\u001b[39;00m\u001b[39mlen\u001b[39m(index)\u001b[39m}\u001b[39;00m\u001b[39m\"\u001b[39m\n\u001b[1;32m    689\u001b[0m         )\n\u001b[0;32m--> 690\u001b[0m         \u001b[39mraise\u001b[39;00m \u001b[39mValueError\u001b[39;00m(msg)\n\u001b[1;32m    691\u001b[0m \u001b[39melse\u001b[39;00m:\n\u001b[1;32m    692\u001b[0m     index \u001b[39m=\u001b[39m default_index(lengths[\u001b[39m0\u001b[39m])\n",
      "\u001b[0;31mValueError\u001b[0m: array length 570 does not match index length 285"
     ]
    }
   ],
   "source": [
    "backtest.run_backtest()"
   ]
  },
  {
   "cell_type": "code",
   "execution_count": 58,
   "metadata": {},
   "outputs": [
    {
     "ename": "NameError",
     "evalue": "name 'portfolio_value_USDT_df' is not defined",
     "output_type": "error",
     "traceback": [
      "\u001b[0;31m---------------------------------------------------------------------------\u001b[0m",
      "\u001b[0;31mNameError\u001b[0m                                 Traceback (most recent call last)",
      "\u001b[1;32m/Users/maximemolin/Documents/Python/Backtest/Backtest-de-trading/DCA_leverage.ipynb Cellule 9\u001b[0m line \u001b[0;36m4\n\u001b[1;32m      <a href='vscode-notebook-cell:/Users/maximemolin/Documents/Python/Backtest/Backtest-de-trading/DCA_leverage.ipynb#X10sZmlsZQ%3D%3D?line=0'>1</a>\u001b[0m \u001b[39m# Graphique de l'évolution de la valeur du portefeuille\u001b[39;00m\n\u001b[1;32m      <a href='vscode-notebook-cell:/Users/maximemolin/Documents/Python/Backtest/Backtest-de-trading/DCA_leverage.ipynb#X10sZmlsZQ%3D%3D?line=1'>2</a>\u001b[0m fig, ax \u001b[39m=\u001b[39m plt\u001b[39m.\u001b[39msubplots(figsize\u001b[39m=\u001b[39m(\u001b[39m16\u001b[39m,\u001b[39m9\u001b[39m))\n\u001b[0;32m----> <a href='vscode-notebook-cell:/Users/maximemolin/Documents/Python/Backtest/Backtest-de-trading/DCA_leverage.ipynb#X10sZmlsZQ%3D%3D?line=3'>4</a>\u001b[0m de \u001b[39m=\u001b[39m portfolio_value_USDT_df[portfolio_value_USDT_df\u001b[39m.\u001b[39mvalue\u001b[39m>\u001b[39m\u001b[39m0\u001b[39m]\n\u001b[1;32m      <a href='vscode-notebook-cell:/Users/maximemolin/Documents/Python/Backtest/Backtest-de-trading/DCA_leverage.ipynb#X10sZmlsZQ%3D%3D?line=4'>5</a>\u001b[0m ax\u001b[39m.\u001b[39mplot_date(de[\u001b[39m'\u001b[39m\u001b[39mtimestamp\u001b[39m\u001b[39m'\u001b[39m], de[\u001b[39m'\u001b[39m\u001b[39mvalue\u001b[39m\u001b[39m'\u001b[39m], \u001b[39m'\u001b[39m\u001b[39m-\u001b[39m\u001b[39m'\u001b[39m)\n\u001b[1;32m      <a href='vscode-notebook-cell:/Users/maximemolin/Documents/Python/Backtest/Backtest-de-trading/DCA_leverage.ipynb#X10sZmlsZQ%3D%3D?line=5'>6</a>\u001b[0m ax\u001b[39m.\u001b[39mset_xlabel(\u001b[39m'\u001b[39m\u001b[39mDate\u001b[39m\u001b[39m'\u001b[39m)\n",
      "\u001b[0;31mNameError\u001b[0m: name 'portfolio_value_USDT_df' is not defined"
     ]
    },
    {
     "data": {
      "image/png": "[encoded data removed]",
      "text/plain": [
       "<Figure size 1600x900 with 1 Axes>"
      ]
     },
     "metadata": {},
     "output_type": "display_data"
    }
   ],
   "source": [
    "\n",
    "# Graphique de l'évolution de la valeur du portefeuille\n",
    "fig, ax = plt.subplots(figsize=(16,9))\n",
    "\n",
    "de = portfolio_value_USDT_df[portfolio_value_USDT_df.value>0]\n",
    "ax.plot_date(de['timestamp'], de['value'], '-')\n",
    "ax.set_xlabel('Date')\n",
    "ax.set_ylabel('Portfolio Value (USDT)')\n",
    "ax.set_title('Portfolio Value Over Time (USDT)')\n",
    "#ax.xaxis.set_major_locator(mdates.DayLocator())\n",
    "ax.xaxis.set_major_formatter(mdates.DateFormatter('%Y-%m-%d'))\n",
    "ax.grid(True)\n",
    "plt.ylim()\n",
    "plt.show()\n",
    "\n",
    "\n",
    "\n",
    "# Graphique de l'évolution de la valeur du portefeuille en BTC\n",
    "fig, ax = plt.subplots(figsize=(16,9))\n",
    "df = portfolio_value_BTC_df[portfolio_value_BTC_df.value>0]\n",
    "ax.plot(df['timestamp'], df['value'], linewidth=2)\n",
    "ax.set_xlabel('Date')\n",
    "ax.set_ylabel('Portfolio Value (Crypto)')\n",
    "ax.set_title('Portfolio Value Over Time (Crypto)')\n",
    "ax.xaxis.set_major_formatter(mdates.DateFormatter('%Y-%m-%d'))\n",
    "ax.grid(True)\n",
    "plt.ylim()\n",
    "plt.xticks(rotation=45)\n",
    "plt.show()\n",
    "\n",
    "last_portfolio_value = portfolio_value_USDT_df['value'].iloc[-1]  # Récupère la dernière valeur du portefeuille']\n",
    "PNL_wallet = last_portfolio_value/initial_USDT_balance\n",
    "\n",
    "print('quantité de Crypto BAH' , buy_and_hold)\n",
    "print('quantité de USDT BAH' , buy_and_hold_f)\n",
    "print('PNL du BAH' , PNL)\n",
    "print('dernière valeur du wallet' , last_portfolio_value)\n",
    "print('PNL du wallet' , PNL_wallet)"
   ]
  }
 ],
 "metadata": {
  "kernelspec": {
   "display_name": "Python 3",
   "language": "python",
   "name": "python3"
  },
  "language_info": {
   "codemirror_mode": {
    "name": "ipython",
    "version": 3
   },
   "file_extension": ".py",
   "mimetype": "text/x-python",
   "name": "python",
   "nbconvert_exporter": "python",
   "pygments_lexer": "ipython3",
   "version": "3.11.5"
  },
  "orig_nbformat": 4
 },
 "nbformat": 4,
 "nbformat_minor": 2
}
